{
 "cells": [
  {
   "cell_type": "code",
   "execution_count": 17,
   "id": "0e8a4e60-b917-4fa2-b7ad-12817f8caade",
   "metadata": {},
   "outputs": [],
   "source": [
    "import random\n",
    "import numpy as np\n",
    "import tensorflow as tf\n",
    "from tensorflow.keras.models import Sequential\n",
    "from tensorflow.keras.layers import LSTM, Dense, Activation , Input\n",
    "from tensorflow.keras.optimizers import RMSprop"
   ]
  },
  {
   "cell_type": "code",
   "execution_count": 2,
   "id": "ec5514d9-fdd6-4e78-bbb9-804d9178e4cb",
   "metadata": {},
   "outputs": [
    {
     "name": "stdout",
     "output_type": "stream",
     "text": [
      "Downloading data from https://storage.googleapis.com/download.tensorflow.org/data/shakespeare.txt\n",
      "\u001b[1m1115394/1115394\u001b[0m \u001b[32m━━━━━━━━━━━━━━━━━━━━\u001b[0m\u001b[37m\u001b[0m \u001b[1m0s\u001b[0m 0us/step\n"
     ]
    }
   ],
   "source": [
    "filepath = tf.keras.utils.get_file('shakespeare.txt', 'https://storage.googleapis.com/download.tensorflow.org/data/shakespeare.txt')"
   ]
  },
  {
   "cell_type": "code",
   "execution_count": 3,
   "id": "e895c3d5-5db8-43b9-af16-54aee0db2637",
   "metadata": {},
   "outputs": [],
   "source": [
    "text = open(filepath, 'rb').read().decode(encoding='utf-8').lower()"
   ]
  },
  {
   "cell_type": "code",
   "execution_count": 4,
   "id": "6d30083f-0b41-481f-98df-bb2033d39715",
   "metadata": {},
   "outputs": [],
   "source": [
    "text = text[300000:800000]"
   ]
  },
  {
   "cell_type": "code",
   "execution_count": 5,
   "id": "8ab39ab4-70d1-434b-8c5d-53d7cb274c8e",
   "metadata": {},
   "outputs": [],
   "source": [
    "characters = sorted(set(text))"
   ]
  },
  {
   "cell_type": "code",
   "execution_count": 13,
   "id": "75055dc6-f278-4607-bb6d-270fa31cf327",
   "metadata": {},
   "outputs": [],
   "source": [
    "char_to_index = dict((c,i) for i , c in enumerate(characters))\n",
    "index_to_char = dict((i,c) for i , c in enumerate(characters))"
   ]
  },
  {
   "cell_type": "code",
   "execution_count": 25,
   "id": "10f4b32d-e630-4f5c-9a30-7d0814505b67",
   "metadata": {},
   "outputs": [
    {
     "data": {
      "text/plain": [
       "' sentences = []\\nnext_characters = [] '"
      ]
     },
     "execution_count": 25,
     "metadata": {},
     "output_type": "execute_result"
    }
   ],
   "source": [
    "SEQ_LENGTH = 40\n",
    "STEP_SIZE = 3\n",
    "\n",
    "''' sentences = []\n",
    "next_characters = [] '''"
   ]
  },
  {
   "cell_type": "code",
   "execution_count": 31,
   "id": "448516d4-aa60-4723-98fb-224bf1df7bb2",
   "metadata": {},
   "outputs": [],
   "source": [
    "model = tf.keras.models.load_model('textgenerator.keras')"
   ]
  },
  {
   "cell_type": "code",
   "execution_count": 32,
   "id": "2f068351-3b33-46f0-8dd6-82e62fd6d9a9",
   "metadata": {},
   "outputs": [],
   "source": [
    "def sample(preds , temperature=1.0):\n",
    "    preds = np.asarray(preds).astype('float64')\n",
    "    preds = np.log(preds) / temperature\n",
    "    exp_preds = np.exp(preds)\n",
    "    preds = exp_preds / np.sum(exp_preds)\n",
    "    probas = np.random.multinomial(1, preds, 1)\n",
    "    return np.argmax(probas)"
   ]
  },
  {
   "cell_type": "code",
   "execution_count": 33,
   "id": "8c6c49bc-6011-4995-b248-06ea72afa11f",
   "metadata": {},
   "outputs": [],
   "source": [
    "def generate_text(length, temperature):\n",
    "    start_index = random.randint(0, len(text) - SEQ_LENGTH - 1)\n",
    "    generated = ''\n",
    "    sentence = text[start_index: start_index + SEQ_LENGTH]\n",
    "    generated += sentence\n",
    "    for i in range(length):\n",
    "        x = np.zeros((1, SEQ_LENGTH, len(characters)))\n",
    "        for t,character in enumerate(sentence):\n",
    "            x[0,t,char_to_index[character]] = 1\n",
    "        predictions = model.predict(x,verbose=0)[0]\n",
    "        next_index = sample(predictions, temperature)\n",
    "        next_character = index_to_char[next_index]\n",
    "\n",
    "        generated += next_character\n",
    "        sentence = sentence[1:] + next_character\n",
    "    return generated"
   ]
  },
  {
   "cell_type": "code",
   "execution_count": 34,
   "id": "319341bf-337e-4f65-a41e-aa2843ffc1f9",
   "metadata": {},
   "outputs": [
    {
     "name": "stdout",
     "output_type": "stream",
     "text": [
      "------------0.2-------------\n",
      "rey\n",
      "eye or so, but not to the purpose. so mearing the count.\n",
      "\n",
      "king edward iv:\n",
      "what is the earth the death and the sonce.\n",
      "\n",
      "king edward iv:\n",
      "what is the son of the green the carse our soul,\n",
      "and the greet heaven a man to the stree,\n",
      "and with the green to the carried, the streeds,\n",
      "and with the warrow have the green the brother,\n",
      "and when the sta\n",
      "------------0.4-------------\n",
      "ge must be verified,\n",
      "that beggars mounted a shall the arching.\n",
      "\n",
      "shepherd:\n",
      "the elemances the way as the sour prove their are\n",
      "that breat the finder of john of thee well.\n",
      "\n",
      "cliffore forewere,\n",
      "what a the word them that as charge the death\n",
      "the state of his chusch and with the court.\n",
      "\n",
      "king edward iv:\n",
      "recove the sin for the streedy sound for thei\n",
      "------------0.6-------------\n",
      "at have their toes\n",
      "unplagued with corns out with mespready'd a force.\n",
      "\n",
      "king edward iv:\n",
      "when a will.\n",
      "\n",
      "henry bolingbroke:\n",
      "for the word, i death the art planture of our lord.\n",
      "\n",
      "ricemes:\n",
      "i will me not with the gracission\n",
      "of the seee for the parting encher them dispaint,\n",
      "i spenty-dies the fearence and weak veastance.\n",
      "\n",
      "leontes:\n",
      "shall i to you wi\n",
      "------------0.8-------------\n",
      "y\n",
      "exercises than formerly he hath appearice.\n",
      "\n",
      "duke of york:\n",
      "the heaven sitter of bring would's sheet\n",
      "and with the jest-moss with i had even chas with?\n",
      "\n",
      "henry bolingbroke:\n",
      "a good the caperter!\n",
      "\n",
      "friarll:\n",
      "ay, sweet on the king i lave the enter,\n",
      "loran of heich's ears, some all and night;\n",
      "that may counter goo peried welllford\n",
      "from me to a king\n",
      "------------1.0-------------\n",
      "o the crown.\n",
      "\n",
      "warwick:\n",
      "exeter, thou art he long-nidy can of thyself!\n",
      "are on eyes,'d's ey us light!\n",
      "wing rich it: thou in that thy bood a forder with me\n",
      "ahine the wearted, nor his all anverly\n",
      "inferon to me ever and on the cater.\n",
      "ahazty makes. a wifonoun:\n",
      "to they shall fatter one. joy'd thee shall.\n",
      "\n",
      "umele:\n",
      "the mistionts and king thored' so \n"
     ]
    }
   ],
   "source": [
    "print('------------0.2-------------')\n",
    "print(generate_text(300 , 0.2))\n",
    "print('------------0.4-------------')\n",
    "print(generate_text(300 , 0.4))\n",
    "print('------------0.6-------------')\n",
    "print(generate_text(300 , 0.6))\n",
    "print('------------0.8-------------')\n",
    "print(generate_text(300 , 0.8))\n",
    "print('------------1.0-------------')\n",
    "print(generate_text(300 , 1.0))"
   ]
  },
  {
   "cell_type": "code",
   "execution_count": null,
   "id": "34f208d7-28fd-49fa-8274-40ac688d10e0",
   "metadata": {},
   "outputs": [],
   "source": []
  }
 ],
 "metadata": {
  "kernelspec": {
   "display_name": "Python 3 (ipykernel)",
   "language": "python",
   "name": "python3"
  },
  "language_info": {
   "codemirror_mode": {
    "name": "ipython",
    "version": 3
   },
   "file_extension": ".py",
   "mimetype": "text/x-python",
   "name": "python",
   "nbconvert_exporter": "python",
   "pygments_lexer": "ipython3",
   "version": "3.12.7"
  }
 },
 "nbformat": 4,
 "nbformat_minor": 5
}
